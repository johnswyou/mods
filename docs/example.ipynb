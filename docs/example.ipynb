{
    "cells": [
        {
            "attachments": {},
            "cell_type": "markdown",
            "metadata": {},
            "source": [
                "# Example usage\n",
                "\n",
                "`mods`, which stands for \"mechanics of deformable solids\" is a python package that implements various equations from the textbook \"Mechanics of Materials\" by R.C. Hibbeler (9th edition). My intention with `mods` is to aid instructors and students alike in teaching (learning) solid mechanics at the undergraduate level. Presently, `mods` only supports plane stress and strain analyses.\n",
                "\n",
                "Here, I will demonstrate some functions from `mods`. `mods` was made with the engineering student in mind; most functions should be straight forward to use."
            ]
        },
        {
            "attachments": {},
            "cell_type": "markdown",
            "metadata": {},
            "source": [
                "## Stress Transformation"
            ]
        },
        {
            "attachments": {},
            "cell_type": "markdown",
            "metadata": {},
            "source": [
                "Suppose we transform an element shown in a) into the element shown by b):\n",
                "\n",
                "![](images/example_1_jupyter.jpg)"
            ]
        },
        {
            "attachments": {},
            "cell_type": "markdown",
            "metadata": {},
            "source": [
                "Working this problem out by hand is a little bit laborous, but not too bad:"
            ]
        },
        {
            "attachments": {},
            "cell_type": "markdown",
            "metadata": {},
            "source": [
                "![](images/example_3_jupyter.png)"
            ]
        },
        {
            "attachments": {},
            "cell_type": "markdown",
            "metadata": {},
            "source": [
                "Using `mods`, this problem is a breeze. We can easily determine the transformed stresses (in MPa):"
            ]
        },
        {
            "cell_type": "code",
            "execution_count": 4,
            "metadata": {},
            "outputs": [
                {
                    "name": "stdout",
                    "output_type": "stream",
                    "text": [
                        "Transformed normal stresses (sigma x prime, sigma y prime): (-25.84936490538904, -4.1506350946109585)\n",
                        "Transformed shear stress: -68.79165124598852\n"
                    ]
                }
            ],
            "source": [
                "from mods.stress_transformation import normal_stress_transform, shear_stress_transform\n",
                "\n",
                "print(f'Transformed normal stresses (sigma x prime, sigma y prime): {normal_stress_transform(-80, 50, -25, -30)}')\n",
                "print(f'Transformed shear stress: {shear_stress_transform(-80, 50, -25, -30)}')"
            ]
        },
        {
            "attachments": {},
            "cell_type": "markdown",
            "metadata": {},
            "source": [
                "## Von Mises Failure Envelope"
            ]
        },
        {
            "attachments": {},
            "cell_type": "markdown",
            "metadata": {},
            "source": [
                "Here's a fun problem from Hibbeler (9th edition):\n",
                "\n",
                "![](images/example_2_jupyter.jpg)"
            ]
        },
        {
            "attachments": {},
            "cell_type": "markdown",
            "metadata": {},
            "source": [
                "The first step is to determine the yield strength of A-36 steel. Luckily, you don't have to flip through Hibbeler to the back pages of the textbook:"
            ]
        },
        {
            "cell_type": "code",
            "execution_count": 7,
            "metadata": {},
            "outputs": [
                {
                    "data": {
                        "text/html": [
                            "<div>\n",
                            "<style scoped>\n",
                            "    .dataframe tbody tr th:only-of-type {\n",
                            "        vertical-align: middle;\n",
                            "    }\n",
                            "\n",
                            "    .dataframe tbody tr th {\n",
                            "        vertical-align: top;\n",
                            "    }\n",
                            "\n",
                            "    .dataframe thead th {\n",
                            "        text-align: right;\n",
                            "    }\n",
                            "</style>\n",
                            "<table border=\"1\" class=\"dataframe\">\n",
                            "  <thead>\n",
                            "    <tr style=\"text-align: right;\">\n",
                            "      <th></th>\n",
                            "      <th>Material Family</th>\n",
                            "      <th>Material</th>\n",
                            "      <th>Density (g/m3)</th>\n",
                            "      <th>Tens. Yield Strength (MPa)</th>\n",
                            "      <th>Comp. Yield Strength (MPa)</th>\n",
                            "    </tr>\n",
                            "  </thead>\n",
                            "  <tbody>\n",
                            "    <tr>\n",
                            "      <th>0</th>\n",
                            "      <td>Aluminum</td>\n",
                            "      <td>2014-T6</td>\n",
                            "      <td>2790000</td>\n",
                            "      <td>414.0</td>\n",
                            "      <td>414.0</td>\n",
                            "    </tr>\n",
                            "    <tr>\n",
                            "      <th>1</th>\n",
                            "      <td>Wrought Alloys</td>\n",
                            "      <td>6061-T6</td>\n",
                            "      <td>2710000</td>\n",
                            "      <td>255.0</td>\n",
                            "      <td>255.0</td>\n",
                            "    </tr>\n",
                            "    <tr>\n",
                            "      <th>2</th>\n",
                            "      <td>Cast Iron Alloys</td>\n",
                            "      <td>Gray ASTM 20</td>\n",
                            "      <td>7190000</td>\n",
                            "      <td>NaN</td>\n",
                            "      <td>NaN</td>\n",
                            "    </tr>\n",
                            "    <tr>\n",
                            "      <th>3</th>\n",
                            "      <td>Cast Iron Alloys</td>\n",
                            "      <td>Malleable ASTM A-197</td>\n",
                            "      <td>7280000</td>\n",
                            "      <td>NaN</td>\n",
                            "      <td>NaN</td>\n",
                            "    </tr>\n",
                            "    <tr>\n",
                            "      <th>4</th>\n",
                            "      <td>Copper Alloys</td>\n",
                            "      <td>Red Brass C83400</td>\n",
                            "      <td>8740000</td>\n",
                            "      <td>70.0</td>\n",
                            "      <td>70.0</td>\n",
                            "    </tr>\n",
                            "    <tr>\n",
                            "      <th>5</th>\n",
                            "      <td>Copper Alloys</td>\n",
                            "      <td>Bronze C86100</td>\n",
                            "      <td>8830000</td>\n",
                            "      <td>345.0</td>\n",
                            "      <td>345.0</td>\n",
                            "    </tr>\n",
                            "    <tr>\n",
                            "      <th>6</th>\n",
                            "      <td>Magnesium Alloy</td>\n",
                            "      <td>[Am 1004-T611]</td>\n",
                            "      <td>1830000</td>\n",
                            "      <td>152.0</td>\n",
                            "      <td>152.0</td>\n",
                            "    </tr>\n",
                            "    <tr>\n",
                            "      <th>7</th>\n",
                            "      <td>Steel Alloys</td>\n",
                            "      <td>Structural A-36</td>\n",
                            "      <td>7850000</td>\n",
                            "      <td>250.0</td>\n",
                            "      <td>250.0</td>\n",
                            "    </tr>\n",
                            "    <tr>\n",
                            "      <th>8</th>\n",
                            "      <td>Steel Alloys</td>\n",
                            "      <td>Structural A992</td>\n",
                            "      <td>7850000</td>\n",
                            "      <td>345.0</td>\n",
                            "      <td>345.0</td>\n",
                            "    </tr>\n",
                            "    <tr>\n",
                            "      <th>9</th>\n",
                            "      <td>Steel Alloys</td>\n",
                            "      <td>Stainless 304</td>\n",
                            "      <td>7860000</td>\n",
                            "      <td>207.0</td>\n",
                            "      <td>207.0</td>\n",
                            "    </tr>\n",
                            "    <tr>\n",
                            "      <th>10</th>\n",
                            "      <td>Steel Alloys</td>\n",
                            "      <td>Tool L2</td>\n",
                            "      <td>8160000</td>\n",
                            "      <td>703.0</td>\n",
                            "      <td>703.0</td>\n",
                            "    </tr>\n",
                            "    <tr>\n",
                            "      <th>11</th>\n",
                            "      <td>Titanium Alloy</td>\n",
                            "      <td>[Tl-6A1-4V1]</td>\n",
                            "      <td>4430000</td>\n",
                            "      <td>924.0</td>\n",
                            "      <td>924.0</td>\n",
                            "    </tr>\n",
                            "    <tr>\n",
                            "      <th>12</th>\n",
                            "      <td>Concrete</td>\n",
                            "      <td>Low Strength</td>\n",
                            "      <td>2380000</td>\n",
                            "      <td>NaN</td>\n",
                            "      <td>NaN</td>\n",
                            "    </tr>\n",
                            "    <tr>\n",
                            "      <th>13</th>\n",
                            "      <td>Concrete</td>\n",
                            "      <td>High Strength</td>\n",
                            "      <td>2370000</td>\n",
                            "      <td>NaN</td>\n",
                            "      <td>NaN</td>\n",
                            "    </tr>\n",
                            "    <tr>\n",
                            "      <th>14</th>\n",
                            "      <td>Plastic Reinforced</td>\n",
                            "      <td>Kevlar 49</td>\n",
                            "      <td>1450000</td>\n",
                            "      <td>NaN</td>\n",
                            "      <td>NaN</td>\n",
                            "    </tr>\n",
                            "    <tr>\n",
                            "      <th>15</th>\n",
                            "      <td>Plastic Reinforced</td>\n",
                            "      <td>30% Glass</td>\n",
                            "      <td>1450000</td>\n",
                            "      <td>NaN</td>\n",
                            "      <td>NaN</td>\n",
                            "    </tr>\n",
                            "    <tr>\n",
                            "      <th>16</th>\n",
                            "      <td>Wood Select Structural Grade</td>\n",
                            "      <td>Douglas Fir</td>\n",
                            "      <td>470000</td>\n",
                            "      <td>NaN</td>\n",
                            "      <td>NaN</td>\n",
                            "    </tr>\n",
                            "    <tr>\n",
                            "      <th>17</th>\n",
                            "      <td>Wood Select Structural Grade</td>\n",
                            "      <td>White Spruce</td>\n",
                            "      <td>3600000</td>\n",
                            "      <td>NaN</td>\n",
                            "      <td>NaN</td>\n",
                            "    </tr>\n",
                            "  </tbody>\n",
                            "</table>\n",
                            "</div>"
                        ],
                        "text/plain": [
                            "                 Material Family  ... Comp. Yield Strength (MPa)\n",
                            "0                       Aluminum  ...                      414.0\n",
                            "1                 Wrought Alloys  ...                      255.0\n",
                            "2               Cast Iron Alloys  ...                        NaN\n",
                            "3               Cast Iron Alloys  ...                        NaN\n",
                            "4                  Copper Alloys  ...                       70.0\n",
                            "5                  Copper Alloys  ...                      345.0\n",
                            "6                Magnesium Alloy  ...                      152.0\n",
                            "7                   Steel Alloys  ...                      250.0\n",
                            "8                   Steel Alloys  ...                      345.0\n",
                            "9                   Steel Alloys  ...                      207.0\n",
                            "10                  Steel Alloys  ...                      703.0\n",
                            "11                Titanium Alloy  ...                      924.0\n",
                            "12                      Concrete  ...                        NaN\n",
                            "13                      Concrete  ...                        NaN\n",
                            "14            Plastic Reinforced  ...                        NaN\n",
                            "15            Plastic Reinforced  ...                        NaN\n",
                            "16  Wood Select Structural Grade  ...                        NaN\n",
                            "17  Wood Select Structural Grade  ...                        NaN\n",
                            "\n",
                            "[18 rows x 5 columns]"
                        ]
                    },
                    "execution_count": 7,
                    "metadata": {},
                    "output_type": "execute_result"
                }
            ],
            "source": [
                "from mods.datasets import get_mechanical_properties_si\n",
                "\n",
                "mech_props_df = get_mechanical_properties_si()\n",
                "mech_props_df.iloc[:, [0, 1, 3, 8, 9]]"
            ]
        },
        {
            "attachments": {},
            "cell_type": "markdown",
            "metadata": {},
            "source": [
                "We can see that the yield strength of A-36 structural steel (in both tension and compression) is 250 MPa. We can use this to plot the Von Mises failure envelope:"
            ]
        },
        {
            "cell_type": "code",
            "execution_count": 6,
            "metadata": {},
            "outputs": [
                {
                    "data": {
                        "image/png": "[encoded data removed]",
                        "text/plain": [
                            "<Figure size 800x800 with 1 Axes>"
                        ]
                    },
                    "metadata": {},
                    "output_type": "display_data"
                }
            ],
            "source": [
                "from mods.failure import plot_von_mises_failure_envelope\n",
                "\n",
                "plot_von_mises_failure_envelope(250, 70, -60, 40)"
            ]
        },
        {
            "attachments": {},
            "cell_type": "markdown",
            "metadata": {},
            "source": [
                "The red dot indicates our stress state. We can see that the dot lies within the failure envelope for A-36 steel, which means our material is not expected to fail at the stress state specified by the problem."
            ]
        }
    ],
    "metadata": {
        "kernelspec": {
            "display_name": "Python 3",
            "language": "python",
            "name": "python3"
        },
        "language_info": {
            "codemirror_mode": {
                "name": "ipython",
                "version": 3
            },
            "file_extension": ".py",
            "mimetype": "text/x-python",
            "name": "python",
            "nbconvert_exporter": "python",
            "pygments_lexer": "ipython3",
            "version": "3.10.11"
        }
    },
    "nbformat": 4,
    "nbformat_minor": 4
}
